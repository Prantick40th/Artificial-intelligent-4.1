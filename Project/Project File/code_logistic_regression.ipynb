{
  "nbformat": 4,
  "nbformat_minor": 0,
  "metadata": {
    "colab": {
      "name": "code_logistic_regression.ipynb",
      "provenance": [],
      "collapsed_sections": []
    },
    "kernelspec": {
      "name": "python3",
      "display_name": "Python 3"
    },
    "language_info": {
      "name": "python"
    }
  },
  "cells": [
    {
      "cell_type": "code",
      "metadata": {
        "id": "O7jNivjIFMOx"
      },
      "source": [
        "# Logistic Regression\n",
        "\n",
        "# Importing the libraries\n",
        "import numpy as np\n",
        "import matplotlib.pyplot as plt\n",
        "import pandas as pd\n",
        "\n"
      ],
      "execution_count": 1,
      "outputs": []
    },
    {
      "cell_type": "code",
      "metadata": {
        "id": "PvyQ9F-FFbfw",
        "colab": {
          "base_uri": "https://localhost:8080/",
          "height": 359
        },
        "outputId": "67c68881-b7e4-48d0-90a6-0b841e745902"
      },
      "source": [
        "# Importing DataSet\n",
        "from google.colab import drive\n",
        "dataset=pd.read_csv('/content/customer_Data.csv')\n",
        "dataset.head(10)"
      ],
      "execution_count": 2,
      "outputs": [
        {
          "output_type": "execute_result",
          "data": {
            "text/html": [
              "<div>\n",
              "<style scoped>\n",
              "    .dataframe tbody tr th:only-of-type {\n",
              "        vertical-align: middle;\n",
              "    }\n",
              "\n",
              "    .dataframe tbody tr th {\n",
              "        vertical-align: top;\n",
              "    }\n",
              "\n",
              "    .dataframe thead th {\n",
              "        text-align: right;\n",
              "    }\n",
              "</style>\n",
              "<table border=\"1\" class=\"dataframe\">\n",
              "  <thead>\n",
              "    <tr style=\"text-align: right;\">\n",
              "      <th></th>\n",
              "      <th>User_ID</th>\n",
              "      <th>Gender</th>\n",
              "      <th>Age</th>\n",
              "      <th>P_Code</th>\n",
              "      <th>C_Order</th>\n",
              "    </tr>\n",
              "  </thead>\n",
              "  <tbody>\n",
              "    <tr>\n",
              "      <th>0</th>\n",
              "      <td>15793813</td>\n",
              "      <td>1</td>\n",
              "      <td>31</td>\n",
              "      <td>89000</td>\n",
              "      <td>0</td>\n",
              "    </tr>\n",
              "    <tr>\n",
              "      <th>1</th>\n",
              "      <td>15694395</td>\n",
              "      <td>1</td>\n",
              "      <td>24</td>\n",
              "      <td>32000</td>\n",
              "      <td>0</td>\n",
              "    </tr>\n",
              "    <tr>\n",
              "      <th>2</th>\n",
              "      <td>15764195</td>\n",
              "      <td>1</td>\n",
              "      <td>18</td>\n",
              "      <td>44000</td>\n",
              "      <td>0</td>\n",
              "    </tr>\n",
              "    <tr>\n",
              "      <th>3</th>\n",
              "      <td>15744919</td>\n",
              "      <td>1</td>\n",
              "      <td>29</td>\n",
              "      <td>83000</td>\n",
              "      <td>0</td>\n",
              "    </tr>\n",
              "    <tr>\n",
              "      <th>4</th>\n",
              "      <td>15671655</td>\n",
              "      <td>1</td>\n",
              "      <td>35</td>\n",
              "      <td>23000</td>\n",
              "      <td>0</td>\n",
              "    </tr>\n",
              "    <tr>\n",
              "      <th>5</th>\n",
              "      <td>15654901</td>\n",
              "      <td>1</td>\n",
              "      <td>27</td>\n",
              "      <td>58000</td>\n",
              "      <td>0</td>\n",
              "    </tr>\n",
              "    <tr>\n",
              "      <th>6</th>\n",
              "      <td>15649136</td>\n",
              "      <td>1</td>\n",
              "      <td>24</td>\n",
              "      <td>55000</td>\n",
              "      <td>0</td>\n",
              "    </tr>\n",
              "    <tr>\n",
              "      <th>7</th>\n",
              "      <td>15775562</td>\n",
              "      <td>1</td>\n",
              "      <td>23</td>\n",
              "      <td>48000</td>\n",
              "      <td>0</td>\n",
              "    </tr>\n",
              "    <tr>\n",
              "      <th>8</th>\n",
              "      <td>15807481</td>\n",
              "      <td>0</td>\n",
              "      <td>28</td>\n",
              "      <td>79000</td>\n",
              "      <td>0</td>\n",
              "    </tr>\n",
              "    <tr>\n",
              "      <th>9</th>\n",
              "      <td>15726358</td>\n",
              "      <td>1</td>\n",
              "      <td>24</td>\n",
              "      <td>27000</td>\n",
              "      <td>0</td>\n",
              "    </tr>\n",
              "  </tbody>\n",
              "</table>\n",
              "</div>"
            ],
            "text/plain": [
              "    User_ID  Gender  Age  P_Code  C_Order\n",
              "0  15793813       1   31   89000        0\n",
              "1  15694395       1   24   32000        0\n",
              "2  15764195       1   18   44000        0\n",
              "3  15744919       1   29   83000        0\n",
              "4  15671655       1   35   23000        0\n",
              "5  15654901       1   27   58000        0\n",
              "6  15649136       1   24   55000        0\n",
              "7  15775562       1   23   48000        0\n",
              "8  15807481       0   28   79000        0\n",
              "9  15726358       1   24   27000        0"
            ]
          },
          "metadata": {},
          "execution_count": 2
        }
      ]
    },
    {
      "cell_type": "code",
      "metadata": {
        "id": "149Eu1VSF-VQ",
        "colab": {
          "base_uri": "https://localhost:8080/"
        },
        "outputId": "75bcd51b-1028-4897-f8ef-e5e37bce3008"
      },
      "source": [
        "X = dataset.iloc[:, [0,1,2,3]].values\n",
        "y = dataset.iloc[:, -1].values\n",
        "print(X)\n",
        "print(y)\n",
        "\n"
      ],
      "execution_count": 4,
      "outputs": [
        {
          "output_type": "stream",
          "name": "stdout",
          "text": [
            "[[15793813        1       31    89000]\n",
            " [15694395        1       24    32000]\n",
            " [15764195        1       18    44000]\n",
            " [15744919        1       29    83000]\n",
            " [15671655        1       35    23000]\n",
            " [15654901        1       27    58000]\n",
            " [15649136        1       24    55000]\n",
            " [15775562        1       23    48000]\n",
            " [15807481        0       28    79000]\n",
            " [15726358        1       24    27000]\n",
            " [15595228        1       20    23000]\n",
            " [15782530        1       33   113000]\n",
            " [15592877        0       32    18000]\n",
            " [15651983        0       34   112000]\n",
            " [15746737        0       18    52000]\n",
            " [15774179        1       22    27000]\n",
            " [15667265        1       28    87000]\n",
            " [15655123        1       26    17000]\n",
            " [15595917        0       30    80000]\n",
            " [15744279        0       32   100000]\n",
            " [15670619        0       25    90000]\n",
            " [15599533        1       37    33000]\n",
            " [15757837        0       35    38000]\n",
            " [15697574        1       33    69000]\n",
            " [15578738        1       18    86000]\n",
            " [15762228        1       22    55000]\n",
            " [15614827        1       35    71000]\n",
            " [15789815        0       29   148000]\n",
            " [15579781        1       29    47000]\n",
            " [15587013        0       21    88000]\n",
            " [15570932        0       34   115000]\n",
            " [15794661        1       26   118000]\n",
            " [15685576        0       26    16000]\n",
            " [15774727        1       31    71000]\n",
            " [15694288        1       32   117000]\n",
            " [15603319        0       33    43000]\n",
            " [15759066        1       33    60000]\n",
            " [15715160        0       28    32000]\n",
            " [15708228        0       35    22000]\n",
            " [15628523        0       35    39000]\n",
            " [15708196        0       49    74000]\n",
            " [15735549        1       39   134000]\n",
            " [15809347        1       41    71000]\n",
            " [15660866        1       58   101000]\n",
            " [15766609        1       47    47000]\n",
            " [15654230        1       55   130000]\n",
            " [15794566        1       52   114000]\n",
            " [15800890        1       40   142000]\n",
            " [15697424        1       46    22000]\n",
            " [15724536        1       48    96000]\n",
            " [15735878        0       52   150000]\n",
            " [15707596        1       59    42000]\n",
            " [15657163        0       35    58000]\n",
            " [15622478        0       47    43000]\n",
            " [15779529        1       60   108000]\n",
            " [15636023        0       49    65000]\n",
            " [15582066        0       40    78000]\n",
            " [15666675        1       46    96000]\n",
            " [15732987        0       59   143000]\n",
            " [15789432        1       41    80000]\n",
            " [15663161        0       35    91000]\n",
            " [15694879        0       37   144000]\n",
            " [15593715        0       60   102000]\n",
            " [15575002        1       35    60000]\n",
            " [15622171        0       37    53000]\n",
            " [15795224        1       36   126000]\n",
            " [15685346        0       56   133000]\n",
            " [15691808        1       40    72000]\n",
            " [15721007        1       42    80000]\n",
            " [15794253        1       35   147000]\n",
            " [15694453        0       39    42000]\n",
            " [15813113        0       40   107000]\n",
            " [15614187        0       49    86000]\n",
            " [15619407        1       38   112000]\n",
            " [15646227        0       46    79000]\n",
            " [15660541        0       40    57000]\n",
            " [15753874        1       37    80000]\n",
            " [15617877        1       46    82000]\n",
            " [15772073        1       53   143000]\n",
            " [15701537        0       42   149000]\n",
            " [15736228        0       38    59000]\n",
            " [15780572        1       50    88000]\n",
            " [15769596        1       56   104000]\n",
            " [15586996        1       41    72000]\n",
            " [15722061        1       51   146000]\n",
            " [15638003        1       35    50000]\n",
            " [15775590        1       57   122000]\n",
            " [15730688        0       41    52000]\n",
            " [15753102        1       35    97000]\n",
            " [15810075        1       44    39000]\n",
            " [15723373        0       37    52000]\n",
            " [15795298        1       48   134000]\n",
            " [15584320        1       37   146000]\n",
            " [15724161        1       50    44000]\n",
            " [15750056        1       52    90000]\n",
            " [15609637        1       41    72000]\n",
            " [15794493        0       40    57000]\n",
            " [15569641        1       58    95000]\n",
            " [15815236        1       45   131000]\n",
            " [15811177        1       35    77000]\n",
            " [15680587        0       36   144000]\n",
            " [15672821        1       55   125000]\n",
            " [15767681        1       35    72000]\n",
            " [15600379        0       48    90000]\n",
            " [15801336        1       42   108000]\n",
            " [15721592        0       40    75000]\n",
            " [15581282        0       37    74000]\n",
            " [15746203        1       47   144000]\n",
            " [15583137        0       40    61000]\n",
            " [15680752        1       43   133000]\n",
            " [15688172        1       59    76000]\n",
            " [15791373        0       60    42000]\n",
            " [15589449        0       39   106000]\n",
            " [15692819        1       57    26000]\n",
            " [15727467        0       57    74000]\n",
            " [15734312        0       38    71000]\n",
            " [15764604        0       49    88000]]\n",
            "[0 0 0 0 0 0 0 0 0 0 0 0 0 1 0 0 0 0 0 1 0 0 0 0 0 0 0 1 0 0 0 0 0 0 1 0 0\n",
            " 0 0 0 0 1 0 1 0 1 0 1 0 1 1 0 0 0 1 0 0 0 1 0 1 1 1 0 0 1 1 0 1 1 0 1 1 0\n",
            " 1 0 0 0 1 1 0 1 1 0 1 0 1 0 1 0 0 1 1 0 1 0 0 1 1 0 1 1 0 1 1 0 0 1 0 0 1\n",
            " 1 1 1 1 0 1]\n"
          ]
        }
      ]
    },
    {
      "cell_type": "code",
      "metadata": {
        "id": "bMLkSlknHDKh"
      },
      "source": [
        "# Splitting the dataset into Training set and Test set\n",
        "from sklearn.model_selection import train_test_split\n",
        "X_train, X_test, y_train, y_test = train_test_split(X, y, test_size = 0.25, random_state = 0)\n",
        "\n"
      ],
      "execution_count": 6,
      "outputs": []
    },
    {
      "cell_type": "code",
      "metadata": {
        "id": "FjOHUgQnHG_A"
      },
      "source": [
        "# Feature Scaling\n",
        "from sklearn.preprocessing import StandardScaler\n",
        "sc = StandardScaler()\n",
        "X_train = sc.fit_transform(X_train)\n",
        "X_test = sc.transform(X_test)\n"
      ],
      "execution_count": 7,
      "outputs": []
    },
    {
      "cell_type": "code",
      "metadata": {
        "colab": {
          "base_uri": "https://localhost:8080/"
        },
        "id": "vuUo7ZygHNDY",
        "outputId": "d13a060a-519d-4d66-bbae-7383b6b40120"
      },
      "source": [
        "\n",
        "# Fitting Logistic Regression to the training set\n",
        "from sklearn.linear_model import LogisticRegression\n",
        "classifier=LogisticRegression(random_state=0)\n",
        "classifier.fit(X_train,y_train)\n",
        "\n"
      ],
      "execution_count": 8,
      "outputs": [
        {
          "output_type": "execute_result",
          "data": {
            "text/plain": [
              "LogisticRegression(C=1.0, class_weight=None, dual=False, fit_intercept=True,\n",
              "                   intercept_scaling=1, l1_ratio=None, max_iter=100,\n",
              "                   multi_class='auto', n_jobs=None, penalty='l2',\n",
              "                   random_state=0, solver='lbfgs', tol=0.0001, verbose=0,\n",
              "                   warm_start=False)"
            ]
          },
          "metadata": {},
          "execution_count": 8
        }
      ]
    },
    {
      "cell_type": "code",
      "metadata": {
        "id": "b1lPfDHtH0LP",
        "colab": {
          "base_uri": "https://localhost:8080/"
        },
        "outputId": "9f67f85e-9389-40d7-8739-b7cc7ce6c748"
      },
      "source": [
        "# Predicting the Test set results\n",
        "from sklearn.metrics import confusion_matrix, accuracy_score\n",
        "y_pred = classifier.predict(X_test)\n",
        "cm = confusion_matrix(y_test, y_pred)\n",
        "print(cm)\n",
        "\n"
      ],
      "execution_count": 9,
      "outputs": [
        {
          "output_type": "stream",
          "name": "stdout",
          "text": [
            "[[17  1]\n",
            " [ 0 12]]\n"
          ]
        }
      ]
    },
    {
      "cell_type": "code",
      "metadata": {
        "colab": {
          "base_uri": "https://localhost:8080/"
        },
        "id": "m8ImrmgrH7Go",
        "outputId": "5cd3af9e-13d1-4f37-8b21-6aba55de3f9a"
      },
      "source": [
        "# Finding accuracy\n",
        "from sklearn.metrics import accuracy_score\n",
        "accuracy=accuracy_score(y_test,y_pred)\n",
        "print(accuracy)"
      ],
      "execution_count": 10,
      "outputs": [
        {
          "output_type": "stream",
          "name": "stdout",
          "text": [
            "0.9666666666666667\n"
          ]
        }
      ]
    },
    {
      "cell_type": "code",
      "metadata": {
        "colab": {
          "base_uri": "https://localhost:8080/"
        },
        "id": "JGIAplhOIJwg",
        "outputId": "179430a6-232e-4697-8f23-756f4ab7e8a9"
      },
      "source": [
        "# Finding recall\n",
        "from sklearn.metrics import recall_score\n",
        "recall=recall_score(y_test,y_pred,average=\"binary\")\n",
        "print(recall)"
      ],
      "execution_count": 11,
      "outputs": [
        {
          "output_type": "stream",
          "name": "stdout",
          "text": [
            "1.0\n"
          ]
        }
      ]
    },
    {
      "cell_type": "code",
      "metadata": {
        "colab": {
          "base_uri": "https://localhost:8080/"
        },
        "id": "SNaiFHqnIMiR",
        "outputId": "688f1a12-6c0d-4478-acc3-52729cf737dc"
      },
      "source": [
        "# Finding precision\n",
        "from sklearn.metrics import precision_score\n",
        "precision=precision_score(y_test,y_pred,average=\"binary\")\n",
        "print(precision)"
      ],
      "execution_count": 12,
      "outputs": [
        {
          "output_type": "stream",
          "name": "stdout",
          "text": [
            "0.9230769230769231\n"
          ]
        }
      ]
    },
    {
      "cell_type": "code",
      "metadata": {
        "colab": {
          "base_uri": "https://localhost:8080/"
        },
        "id": "W-ZRuZIyIPW4",
        "outputId": "7c11cb94-fb8a-4095-e87d-99c0e1e498e0"
      },
      "source": [
        "# Finding F1 score\n",
        "from sklearn.metrics import f1_score\n",
        "f1Score=f1_score(y_test,y_pred,average=\"binary\")\n",
        "print(f1Score)"
      ],
      "execution_count": 13,
      "outputs": [
        {
          "output_type": "stream",
          "name": "stdout",
          "text": [
            "0.9600000000000001\n"
          ]
        }
      ]
    }
  ]
}